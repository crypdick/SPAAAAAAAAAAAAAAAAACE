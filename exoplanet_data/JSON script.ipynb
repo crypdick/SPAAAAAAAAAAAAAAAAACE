{
 "cells": [
  {
   "cell_type": "code",
   "execution_count": 13,
   "metadata": {},
   "outputs": [],
   "source": [
    "#Splitting JSON files into separate JSON files by key. \n",
    "\n",
    "import json\n",
    "\n",
    "with open('planets.json') as json_data:\n",
    "    d = json.load(json_data)\n",
    "\n",
    "c=[]\n",
    "for i in range(0,len(d)):\n",
    "    if d[i]['star_name'] not in c:\n",
    "        c.append(d[i]['star_name'])\n",
    "\n",
    "f=[]\n",
    "for i in range(0, len(c)):\n",
    "    if c[i] == '47 UMa':\n",
    "        for v in range(0,len(d)):\n",
    "            if c[i] == d[v]['star_name']:\n",
    "                f.append(d[v])\n",
    "            \n",
    "for i in range(0, len(c)):\n",
    "    f = []\n",
    "    for v in range(0,len(d)):\n",
    "        if c[i] == d[v]['star_name']:\n",
    "            f.append(d[v])\n",
    "    with open(c[i]+'.json', 'w') as fp:\n",
    "        json.dump(f,fp)\n",
    "\n",
    "        \n",
    "            \n",
    "#for i in range(0, len(c)):\n",
    " #   f = []\n",
    "  #  for v in range(0,len(d)):\n",
    "   #     if c[i]==d[v]['star_name']:\n",
    "    #        f.append(d[v])\n",
    "            \n",
    "    #with open(c[i]+'.json', 'w') as fp:\n",
    "     #   json.dump(f,fp)\n",
    "\n",
    "    \n",
    "    #if d[i]['star_name'] in c:\n",
    "      #  c=[]\n",
    "        # c.append(d[i])\n",
    "        #with open(d[i]['star_name']+'.json', 'w') as fp:\n",
    "         #   json.dump(d[i], fp)\n",
    "\n",
    "\n"
   ]
  },
  {
   "cell_type": "code",
   "execution_count": 53,
   "metadata": {},
   "outputs": [
    {
     "data": {
      "text/plain": [
       "2773"
      ]
     },
     "execution_count": 53,
     "metadata": {},
     "output_type": "execute_result"
    }
   ],
   "source": [
    "c\n",
    "len(c)"
   ]
  },
  {
   "cell_type": "code",
   "execution_count": 54,
   "metadata": {},
   "outputs": [
    {
     "ename": "AttributeError",
     "evalue": "'list' object has no attribute 'items'",
     "output_type": "error",
     "traceback": [
      "\u001b[1;31m---------------------------------------------------------------------------\u001b[0m",
      "\u001b[1;31mAttributeError\u001b[0m                            Traceback (most recent call last)",
      "\u001b[1;32m<ipython-input-54-99c335fa70d5>\u001b[0m in \u001b[0;36m<module>\u001b[1;34m()\u001b[0m\n\u001b[1;32m----> 1\u001b[1;33m \u001b[0mdicts\u001b[0m \u001b[1;33m=\u001b[0m \u001b[1;33m[\u001b[0m\u001b[1;33m{\u001b[0m\u001b[0mk\u001b[0m\u001b[1;33m:\u001b[0m\u001b[0mv\u001b[0m\u001b[1;33m}\u001b[0m \u001b[1;32mfor\u001b[0m \u001b[0mk\u001b[0m\u001b[1;33m,\u001b[0m\u001b[0mv\u001b[0m \u001b[1;32min\u001b[0m \u001b[0md\u001b[0m\u001b[1;33m.\u001b[0m\u001b[0mitems\u001b[0m\u001b[1;33m(\u001b[0m\u001b[1;33m)\u001b[0m\u001b[1;33m]\u001b[0m\u001b[1;33m\u001b[0m\u001b[0m\n\u001b[0m",
      "\u001b[1;31mAttributeError\u001b[0m: 'list' object has no attribute 'items'"
     ]
    }
   ],
   "source": [
    "dicts = [{k:v} for k,v in d.items()]"
   ]
  }
 ],
 "metadata": {
  "kernelspec": {
   "display_name": "Python 3",
   "language": "python",
   "name": "python3"
  },
  "language_info": {
   "codemirror_mode": {
    "name": "ipython",
    "version": 3
   },
   "file_extension": ".py",
   "mimetype": "text/x-python",
   "name": "python",
   "nbconvert_exporter": "python",
   "pygments_lexer": "ipython3",
   "version": "3.6.4"
  }
 },
 "nbformat": 4,
 "nbformat_minor": 2
}
